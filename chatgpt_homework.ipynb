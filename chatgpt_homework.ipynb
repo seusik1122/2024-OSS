{
  "nbformat": 4,
  "nbformat_minor": 0,
  "metadata": {
    "colab": {
      "provenance": [],
      "authorship_tag": "ABX9TyPsrAo0xYoEgBnk3S50/za6",
      "include_colab_link": true
    },
    "kernelspec": {
      "name": "python3",
      "display_name": "Python 3"
    },
    "language_info": {
      "name": "python"
    }
  },
  "cells": [
    {
      "cell_type": "markdown",
      "metadata": {
        "id": "view-in-github",
        "colab_type": "text"
      },
      "source": [
        "<a href=\"https://colab.research.google.com/github/seusik1122/2024-OSS/blob/main/chatgpt_homework.ipynb\" target=\"_parent\"><img src=\"https://colab.research.google.com/assets/colab-badge.svg\" alt=\"Open In Colab\"/></a>"
      ]
    },
    {
      "cell_type": "code",
      "execution_count": 2,
      "metadata": {
        "colab": {
          "base_uri": "https://localhost:8080/"
        },
        "id": "WwIzjG_rFUSy",
        "outputId": "64c6119a-ee1e-4ff9-c2a2-d7c7e00c4ade"
      },
      "outputs": [
        {
          "output_type": "stream",
          "name": "stdout",
          "text": [
            "             날짜   지점  평균기온(℃)  최저기온(℃)  최고기온(℃)\n",
            "NaN  2018-08-01  108     33.6     27.8     39.6\n"
          ]
        }
      ],
      "source": [
        "import pandas as pd\n",
        "\n",
        "# 파일 경로 설정\n",
        "file_path = 'seoul.csv'\n",
        "\n",
        "# CSV 파일을 euc-kr 인코딩으로 읽어오기\n",
        "df = pd.read_csv(file_path, encoding='euc-kr', header=1, names=['날짜', '지점', '평균기온(℃)', '최저기온(℃)', '최고기온(℃)'])\n",
        "\n",
        "# 최고기온(℃) 열을 숫자로 변환하여 잘못된 값을 처리\n",
        "df['최고기온(℃)'] = pd.to_numeric(df['최고기온(℃)'], errors='coerce')\n",
        "\n",
        "# 가장 높은 기온을 기록한 날짜 찾기\n",
        "max_temp_row = df[df['최고기온(℃)'] == df['최고기온(℃)'].max()]\n",
        "\n",
        "# 결과 출력\n",
        "print(max_temp_row)\n"
      ]
    },
    {
      "cell_type": "code",
      "source": [],
      "metadata": {
        "id": "6BdMK6WPFZ-y"
      },
      "execution_count": null,
      "outputs": []
    }
  ]
}